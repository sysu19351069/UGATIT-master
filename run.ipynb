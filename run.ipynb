{
 "cells": [
  {
   "cell_type": "code",
   "execution_count": 6,
   "id": "9f73cd3c-c4e9-439f-9140-b769806f63c2",
   "metadata": {
    "tags": []
   },
   "outputs": [],
   "source": [
    "import cv2 as cv\n",
    "from demo_video import get_anime\n",
    "\n",
    "saved_dir = './save'  # 会将最近转换的图片保存到该文件夹下\n",
    "camera = cv.VideoCapture(0)\n",
    "while (True):\n",
    "    ret, frame = camera.read()\n",
    "    img = get_anime(frame, saved_dir, model_type='ugatit', resume='logs/ugatit/199.pt', align=True, anime=True)  # 选择对应的模型及权重得到转换后的图片\n",
    "    if img is None:\n",
    "        continue\n",
    "    # cv.namedWindow('origin/anime', cv.WINDOW_NORMAL)  # 取消注释可以鼠标拖动调整窗口大小\n",
    "    cv.imshow('origin/anime', img)\n",
    "    if cv.waitKey(1) == 27:  # 按ESC键退出\n",
    "        break\n",
    "camera.release()\n",
    "cv.destroyAllWindows()"
   ]
  }
 ],
 "metadata": {
  "kernelspec": {
   "display_name": "Python 3",
   "language": "python",
   "name": "python3"
  },
  "language_info": {
   "codemirror_mode": {
    "name": "ipython",
    "version": 3
   },
   "file_extension": ".py",
   "mimetype": "text/x-python",
   "name": "python",
   "nbconvert_exporter": "python",
   "pygments_lexer": "ipython3",
   "version": "3.7.10"
  }
 },
 "nbformat": 4,
 "nbformat_minor": 5
}
